{
  "cells": [
    {
      "cell_type": "code",
      "execution_count": 1,
      "metadata": {
        "colab": {
          "base_uri": "https://localhost:8080/",
          "height": 206
        },
        "id": "OpKFjL5rWA5O",
        "outputId": "7d3d76e2-787c-4124-838f-9f74774ec11c"
      },
      "outputs": [
        {
          "output_type": "execute_result",
          "data": {
            "text/plain": [
              "              Date  ToVol  SmVol  MeVol  LaVol  Speed  Occ.Rate\n",
              "0  2017-04-02 0:00     43     34      9      0   50.3      1.90\n",
              "1  2017-04-02 0:05     45     32     13      0   58.9      1.84\n",
              "2  2017-04-02 0:10     46     34     12      0   50.6      1.87\n",
              "3  2017-04-02 0:15     45     36      9      0   50.9      1.72\n",
              "4  2017-04-02 0:20     27     13     13      1   62.2      1.12"
            ],
            "text/html": [
              "\n",
              "  <div id=\"df-87b13a88-297f-4764-b2ae-a2af1a94afd4\">\n",
              "    <div class=\"colab-df-container\">\n",
              "      <div>\n",
              "<style scoped>\n",
              "    .dataframe tbody tr th:only-of-type {\n",
              "        vertical-align: middle;\n",
              "    }\n",
              "\n",
              "    .dataframe tbody tr th {\n",
              "        vertical-align: top;\n",
              "    }\n",
              "\n",
              "    .dataframe thead th {\n",
              "        text-align: right;\n",
              "    }\n",
              "</style>\n",
              "<table border=\"1\" class=\"dataframe\">\n",
              "  <thead>\n",
              "    <tr style=\"text-align: right;\">\n",
              "      <th></th>\n",
              "      <th>Date</th>\n",
              "      <th>ToVol</th>\n",
              "      <th>SmVol</th>\n",
              "      <th>MeVol</th>\n",
              "      <th>LaVol</th>\n",
              "      <th>Speed</th>\n",
              "      <th>Occ.Rate</th>\n",
              "    </tr>\n",
              "  </thead>\n",
              "  <tbody>\n",
              "    <tr>\n",
              "      <th>0</th>\n",
              "      <td>2017-04-02 0:00</td>\n",
              "      <td>43</td>\n",
              "      <td>34</td>\n",
              "      <td>9</td>\n",
              "      <td>0</td>\n",
              "      <td>50.3</td>\n",
              "      <td>1.90</td>\n",
              "    </tr>\n",
              "    <tr>\n",
              "      <th>1</th>\n",
              "      <td>2017-04-02 0:05</td>\n",
              "      <td>45</td>\n",
              "      <td>32</td>\n",
              "      <td>13</td>\n",
              "      <td>0</td>\n",
              "      <td>58.9</td>\n",
              "      <td>1.84</td>\n",
              "    </tr>\n",
              "    <tr>\n",
              "      <th>2</th>\n",
              "      <td>2017-04-02 0:10</td>\n",
              "      <td>46</td>\n",
              "      <td>34</td>\n",
              "      <td>12</td>\n",
              "      <td>0</td>\n",
              "      <td>50.6</td>\n",
              "      <td>1.87</td>\n",
              "    </tr>\n",
              "    <tr>\n",
              "      <th>3</th>\n",
              "      <td>2017-04-02 0:15</td>\n",
              "      <td>45</td>\n",
              "      <td>36</td>\n",
              "      <td>9</td>\n",
              "      <td>0</td>\n",
              "      <td>50.9</td>\n",
              "      <td>1.72</td>\n",
              "    </tr>\n",
              "    <tr>\n",
              "      <th>4</th>\n",
              "      <td>2017-04-02 0:20</td>\n",
              "      <td>27</td>\n",
              "      <td>13</td>\n",
              "      <td>13</td>\n",
              "      <td>1</td>\n",
              "      <td>62.2</td>\n",
              "      <td>1.12</td>\n",
              "    </tr>\n",
              "  </tbody>\n",
              "</table>\n",
              "</div>\n",
              "      <button class=\"colab-df-convert\" onclick=\"convertToInteractive('df-87b13a88-297f-4764-b2ae-a2af1a94afd4')\"\n",
              "              title=\"Convert this dataframe to an interactive table.\"\n",
              "              style=\"display:none;\">\n",
              "        \n",
              "  <svg xmlns=\"http://www.w3.org/2000/svg\" height=\"24px\"viewBox=\"0 0 24 24\"\n",
              "       width=\"24px\">\n",
              "    <path d=\"M0 0h24v24H0V0z\" fill=\"none\"/>\n",
              "    <path d=\"M18.56 5.44l.94 2.06.94-2.06 2.06-.94-2.06-.94-.94-2.06-.94 2.06-2.06.94zm-11 1L8.5 8.5l.94-2.06 2.06-.94-2.06-.94L8.5 2.5l-.94 2.06-2.06.94zm10 10l.94 2.06.94-2.06 2.06-.94-2.06-.94-.94-2.06-.94 2.06-2.06.94z\"/><path d=\"M17.41 7.96l-1.37-1.37c-.4-.4-.92-.59-1.43-.59-.52 0-1.04.2-1.43.59L10.3 9.45l-7.72 7.72c-.78.78-.78 2.05 0 2.83L4 21.41c.39.39.9.59 1.41.59.51 0 1.02-.2 1.41-.59l7.78-7.78 2.81-2.81c.8-.78.8-2.07 0-2.86zM5.41 20L4 18.59l7.72-7.72 1.47 1.35L5.41 20z\"/>\n",
              "  </svg>\n",
              "      </button>\n",
              "      \n",
              "  <style>\n",
              "    .colab-df-container {\n",
              "      display:flex;\n",
              "      flex-wrap:wrap;\n",
              "      gap: 12px;\n",
              "    }\n",
              "\n",
              "    .colab-df-convert {\n",
              "      background-color: #E8F0FE;\n",
              "      border: none;\n",
              "      border-radius: 50%;\n",
              "      cursor: pointer;\n",
              "      display: none;\n",
              "      fill: #1967D2;\n",
              "      height: 32px;\n",
              "      padding: 0 0 0 0;\n",
              "      width: 32px;\n",
              "    }\n",
              "\n",
              "    .colab-df-convert:hover {\n",
              "      background-color: #E2EBFA;\n",
              "      box-shadow: 0px 1px 2px rgba(60, 64, 67, 0.3), 0px 1px 3px 1px rgba(60, 64, 67, 0.15);\n",
              "      fill: #174EA6;\n",
              "    }\n",
              "\n",
              "    [theme=dark] .colab-df-convert {\n",
              "      background-color: #3B4455;\n",
              "      fill: #D2E3FC;\n",
              "    }\n",
              "\n",
              "    [theme=dark] .colab-df-convert:hover {\n",
              "      background-color: #434B5C;\n",
              "      box-shadow: 0px 1px 3px 1px rgba(0, 0, 0, 0.15);\n",
              "      filter: drop-shadow(0px 1px 2px rgba(0, 0, 0, 0.3));\n",
              "      fill: #FFFFFF;\n",
              "    }\n",
              "  </style>\n",
              "\n",
              "      <script>\n",
              "        const buttonEl =\n",
              "          document.querySelector('#df-87b13a88-297f-4764-b2ae-a2af1a94afd4 button.colab-df-convert');\n",
              "        buttonEl.style.display =\n",
              "          google.colab.kernel.accessAllowed ? 'block' : 'none';\n",
              "\n",
              "        async function convertToInteractive(key) {\n",
              "          const element = document.querySelector('#df-87b13a88-297f-4764-b2ae-a2af1a94afd4');\n",
              "          const dataTable =\n",
              "            await google.colab.kernel.invokeFunction('convertToInteractive',\n",
              "                                                     [key], {});\n",
              "          if (!dataTable) return;\n",
              "\n",
              "          const docLinkHtml = 'Like what you see? Visit the ' +\n",
              "            '<a target=\"_blank\" href=https://colab.research.google.com/notebooks/data_table.ipynb>data table notebook</a>'\n",
              "            + ' to learn more about interactive tables.';\n",
              "          element.innerHTML = '';\n",
              "          dataTable['output_type'] = 'display_data';\n",
              "          await google.colab.output.renderOutput(dataTable, element);\n",
              "          const docLink = document.createElement('div');\n",
              "          docLink.innerHTML = docLinkHtml;\n",
              "          element.appendChild(docLink);\n",
              "        }\n",
              "      </script>\n",
              "    </div>\n",
              "  </div>\n",
              "  "
            ]
          },
          "metadata": {},
          "execution_count": 1
        }
      ],
      "source": [
        "import pandas as pd\n",
        "import io\n",
        "import tensorflow as tf\n",
        "from tensorflow import keras\n",
        "import numpy as np\n",
        "\n",
        "from sklearn.preprocessing import StandardScaler, MinMaxScaler\n",
        "from sklearn.model_selection import train_test_split\n",
        "from tensorflow.keras.models import Sequential\n",
        "from tensorflow.keras.layers import Conv1D, MaxPooling1D, LSTM, Dense, Dropout\n",
        "from tensorflow.keras.optimizers import Adam\n",
        "\n",
        "\n",
        "import matplotlib.pyplot as plt\n",
        "import tabulate\n",
        "\n",
        "\n",
        "df = pd.read_csv('https://raw.githubusercontent.com/hongsukyi/Lectures/main/vds/vds.csv')\n",
        "\n",
        "df.head()"
      ]
    },
    {
      "cell_type": "code",
      "source": [
        "print(df.columns)\n"
      ],
      "metadata": {
        "id": "d05CJGqGYJ7o",
        "colab": {
          "base_uri": "https://localhost:8080/"
        },
        "outputId": "9ce09912-6903-47d4-877b-ebf5066b35fe"
      },
      "execution_count": 2,
      "outputs": [
        {
          "output_type": "stream",
          "name": "stdout",
          "text": [
            "Index(['Date', 'ToVol', 'SmVol', 'MeVol', 'LaVol', 'Speed', 'Occ.Rate'], dtype='object')\n"
          ]
        }
      ]
    },
    {
      "cell_type": "code",
      "source": [
        "num_classes = 3\n",
        "class_labels = ['Jam', 'Slow', 'Normal']\n",
        "\n",
        "def get_score(speed):\n",
        "    if speed < 30:\n",
        "        label = 'Jam'\n",
        "    elif speed < 50:\n",
        "        label = 'Slow'\n",
        "    else:\n",
        "        label = 'Normal'\n",
        "    return label\n",
        "\n",
        "class_dic = {'Jam': 0, 'Slow': 1, 'Normal': 2}\n",
        "\n",
        "df['label_speed'] = df['Speed'].apply(lambda i: get_score(i))\n",
        "df['label_speed'] = df['label_speed'].apply(lambda i: class_dic[i])\n",
        "\n",
        "df.head()\n"
      ],
      "metadata": {
        "id": "hLYFFPj7Wi_c",
        "colab": {
          "base_uri": "https://localhost:8080/",
          "height": 206
        },
        "outputId": "e9e52ecb-77fc-4ff7-f7b7-b2868cd56c7f"
      },
      "execution_count": 3,
      "outputs": [
        {
          "output_type": "execute_result",
          "data": {
            "text/plain": [
              "              Date  ToVol  SmVol  MeVol  LaVol  Speed  Occ.Rate  label_speed\n",
              "0  2017-04-02 0:00     43     34      9      0   50.3      1.90            2\n",
              "1  2017-04-02 0:05     45     32     13      0   58.9      1.84            2\n",
              "2  2017-04-02 0:10     46     34     12      0   50.6      1.87            2\n",
              "3  2017-04-02 0:15     45     36      9      0   50.9      1.72            2\n",
              "4  2017-04-02 0:20     27     13     13      1   62.2      1.12            2"
            ],
            "text/html": [
              "\n",
              "  <div id=\"df-f4b20a68-6589-4e0f-a16d-99403b4fb460\">\n",
              "    <div class=\"colab-df-container\">\n",
              "      <div>\n",
              "<style scoped>\n",
              "    .dataframe tbody tr th:only-of-type {\n",
              "        vertical-align: middle;\n",
              "    }\n",
              "\n",
              "    .dataframe tbody tr th {\n",
              "        vertical-align: top;\n",
              "    }\n",
              "\n",
              "    .dataframe thead th {\n",
              "        text-align: right;\n",
              "    }\n",
              "</style>\n",
              "<table border=\"1\" class=\"dataframe\">\n",
              "  <thead>\n",
              "    <tr style=\"text-align: right;\">\n",
              "      <th></th>\n",
              "      <th>Date</th>\n",
              "      <th>ToVol</th>\n",
              "      <th>SmVol</th>\n",
              "      <th>MeVol</th>\n",
              "      <th>LaVol</th>\n",
              "      <th>Speed</th>\n",
              "      <th>Occ.Rate</th>\n",
              "      <th>label_speed</th>\n",
              "    </tr>\n",
              "  </thead>\n",
              "  <tbody>\n",
              "    <tr>\n",
              "      <th>0</th>\n",
              "      <td>2017-04-02 0:00</td>\n",
              "      <td>43</td>\n",
              "      <td>34</td>\n",
              "      <td>9</td>\n",
              "      <td>0</td>\n",
              "      <td>50.3</td>\n",
              "      <td>1.90</td>\n",
              "      <td>2</td>\n",
              "    </tr>\n",
              "    <tr>\n",
              "      <th>1</th>\n",
              "      <td>2017-04-02 0:05</td>\n",
              "      <td>45</td>\n",
              "      <td>32</td>\n",
              "      <td>13</td>\n",
              "      <td>0</td>\n",
              "      <td>58.9</td>\n",
              "      <td>1.84</td>\n",
              "      <td>2</td>\n",
              "    </tr>\n",
              "    <tr>\n",
              "      <th>2</th>\n",
              "      <td>2017-04-02 0:10</td>\n",
              "      <td>46</td>\n",
              "      <td>34</td>\n",
              "      <td>12</td>\n",
              "      <td>0</td>\n",
              "      <td>50.6</td>\n",
              "      <td>1.87</td>\n",
              "      <td>2</td>\n",
              "    </tr>\n",
              "    <tr>\n",
              "      <th>3</th>\n",
              "      <td>2017-04-02 0:15</td>\n",
              "      <td>45</td>\n",
              "      <td>36</td>\n",
              "      <td>9</td>\n",
              "      <td>0</td>\n",
              "      <td>50.9</td>\n",
              "      <td>1.72</td>\n",
              "      <td>2</td>\n",
              "    </tr>\n",
              "    <tr>\n",
              "      <th>4</th>\n",
              "      <td>2017-04-02 0:20</td>\n",
              "      <td>27</td>\n",
              "      <td>13</td>\n",
              "      <td>13</td>\n",
              "      <td>1</td>\n",
              "      <td>62.2</td>\n",
              "      <td>1.12</td>\n",
              "      <td>2</td>\n",
              "    </tr>\n",
              "  </tbody>\n",
              "</table>\n",
              "</div>\n",
              "      <button class=\"colab-df-convert\" onclick=\"convertToInteractive('df-f4b20a68-6589-4e0f-a16d-99403b4fb460')\"\n",
              "              title=\"Convert this dataframe to an interactive table.\"\n",
              "              style=\"display:none;\">\n",
              "        \n",
              "  <svg xmlns=\"http://www.w3.org/2000/svg\" height=\"24px\"viewBox=\"0 0 24 24\"\n",
              "       width=\"24px\">\n",
              "    <path d=\"M0 0h24v24H0V0z\" fill=\"none\"/>\n",
              "    <path d=\"M18.56 5.44l.94 2.06.94-2.06 2.06-.94-2.06-.94-.94-2.06-.94 2.06-2.06.94zm-11 1L8.5 8.5l.94-2.06 2.06-.94-2.06-.94L8.5 2.5l-.94 2.06-2.06.94zm10 10l.94 2.06.94-2.06 2.06-.94-2.06-.94-.94-2.06-.94 2.06-2.06.94z\"/><path d=\"M17.41 7.96l-1.37-1.37c-.4-.4-.92-.59-1.43-.59-.52 0-1.04.2-1.43.59L10.3 9.45l-7.72 7.72c-.78.78-.78 2.05 0 2.83L4 21.41c.39.39.9.59 1.41.59.51 0 1.02-.2 1.41-.59l7.78-7.78 2.81-2.81c.8-.78.8-2.07 0-2.86zM5.41 20L4 18.59l7.72-7.72 1.47 1.35L5.41 20z\"/>\n",
              "  </svg>\n",
              "      </button>\n",
              "      \n",
              "  <style>\n",
              "    .colab-df-container {\n",
              "      display:flex;\n",
              "      flex-wrap:wrap;\n",
              "      gap: 12px;\n",
              "    }\n",
              "\n",
              "    .colab-df-convert {\n",
              "      background-color: #E8F0FE;\n",
              "      border: none;\n",
              "      border-radius: 50%;\n",
              "      cursor: pointer;\n",
              "      display: none;\n",
              "      fill: #1967D2;\n",
              "      height: 32px;\n",
              "      padding: 0 0 0 0;\n",
              "      width: 32px;\n",
              "    }\n",
              "\n",
              "    .colab-df-convert:hover {\n",
              "      background-color: #E2EBFA;\n",
              "      box-shadow: 0px 1px 2px rgba(60, 64, 67, 0.3), 0px 1px 3px 1px rgba(60, 64, 67, 0.15);\n",
              "      fill: #174EA6;\n",
              "    }\n",
              "\n",
              "    [theme=dark] .colab-df-convert {\n",
              "      background-color: #3B4455;\n",
              "      fill: #D2E3FC;\n",
              "    }\n",
              "\n",
              "    [theme=dark] .colab-df-convert:hover {\n",
              "      background-color: #434B5C;\n",
              "      box-shadow: 0px 1px 3px 1px rgba(0, 0, 0, 0.15);\n",
              "      filter: drop-shadow(0px 1px 2px rgba(0, 0, 0, 0.3));\n",
              "      fill: #FFFFFF;\n",
              "    }\n",
              "  </style>\n",
              "\n",
              "      <script>\n",
              "        const buttonEl =\n",
              "          document.querySelector('#df-f4b20a68-6589-4e0f-a16d-99403b4fb460 button.colab-df-convert');\n",
              "        buttonEl.style.display =\n",
              "          google.colab.kernel.accessAllowed ? 'block' : 'none';\n",
              "\n",
              "        async function convertToInteractive(key) {\n",
              "          const element = document.querySelector('#df-f4b20a68-6589-4e0f-a16d-99403b4fb460');\n",
              "          const dataTable =\n",
              "            await google.colab.kernel.invokeFunction('convertToInteractive',\n",
              "                                                     [key], {});\n",
              "          if (!dataTable) return;\n",
              "\n",
              "          const docLinkHtml = 'Like what you see? Visit the ' +\n",
              "            '<a target=\"_blank\" href=https://colab.research.google.com/notebooks/data_table.ipynb>data table notebook</a>'\n",
              "            + ' to learn more about interactive tables.';\n",
              "          element.innerHTML = '';\n",
              "          dataTable['output_type'] = 'display_data';\n",
              "          await google.colab.output.renderOutput(dataTable, element);\n",
              "          const docLink = document.createElement('div');\n",
              "          docLink.innerHTML = docLinkHtml;\n",
              "          element.appendChild(docLink);\n",
              "        }\n",
              "      </script>\n",
              "    </div>\n",
              "  </div>\n",
              "  "
            ]
          },
          "metadata": {},
          "execution_count": 3
        }
      ]
    },
    {
      "cell_type": "code",
      "source": [
        "df.columns"
      ],
      "metadata": {
        "id": "4zHKKkrYL-S6",
        "colab": {
          "base_uri": "https://localhost:8080/"
        },
        "outputId": "a8913dcd-4d23-43df-94b2-5a5078b1b2d9"
      },
      "execution_count": 4,
      "outputs": [
        {
          "output_type": "execute_result",
          "data": {
            "text/plain": [
              "Index(['Date', 'ToVol', 'SmVol', 'MeVol', 'LaVol', 'Speed', 'Occ.Rate',\n",
              "       'label_speed'],\n",
              "      dtype='object')"
            ]
          },
          "metadata": {},
          "execution_count": 4
        }
      ]
    },
    {
      "cell_type": "code",
      "source": [
        "df['label_speed'] = df['Speed'].apply(lambda spd: get_score(spd))\n",
        "df.head()"
      ],
      "metadata": {
        "id": "dlRzUHxEMfjk",
        "colab": {
          "base_uri": "https://localhost:8080/",
          "height": 206
        },
        "outputId": "631859f0-09f0-4ff9-ea80-a0804bbf6324"
      },
      "execution_count": 5,
      "outputs": [
        {
          "output_type": "execute_result",
          "data": {
            "text/plain": [
              "              Date  ToVol  SmVol  MeVol  LaVol  Speed  Occ.Rate label_speed\n",
              "0  2017-04-02 0:00     43     34      9      0   50.3      1.90      Normal\n",
              "1  2017-04-02 0:05     45     32     13      0   58.9      1.84      Normal\n",
              "2  2017-04-02 0:10     46     34     12      0   50.6      1.87      Normal\n",
              "3  2017-04-02 0:15     45     36      9      0   50.9      1.72      Normal\n",
              "4  2017-04-02 0:20     27     13     13      1   62.2      1.12      Normal"
            ],
            "text/html": [
              "\n",
              "  <div id=\"df-be285bb3-0ba8-4f60-ae09-d9868c26b75f\">\n",
              "    <div class=\"colab-df-container\">\n",
              "      <div>\n",
              "<style scoped>\n",
              "    .dataframe tbody tr th:only-of-type {\n",
              "        vertical-align: middle;\n",
              "    }\n",
              "\n",
              "    .dataframe tbody tr th {\n",
              "        vertical-align: top;\n",
              "    }\n",
              "\n",
              "    .dataframe thead th {\n",
              "        text-align: right;\n",
              "    }\n",
              "</style>\n",
              "<table border=\"1\" class=\"dataframe\">\n",
              "  <thead>\n",
              "    <tr style=\"text-align: right;\">\n",
              "      <th></th>\n",
              "      <th>Date</th>\n",
              "      <th>ToVol</th>\n",
              "      <th>SmVol</th>\n",
              "      <th>MeVol</th>\n",
              "      <th>LaVol</th>\n",
              "      <th>Speed</th>\n",
              "      <th>Occ.Rate</th>\n",
              "      <th>label_speed</th>\n",
              "    </tr>\n",
              "  </thead>\n",
              "  <tbody>\n",
              "    <tr>\n",
              "      <th>0</th>\n",
              "      <td>2017-04-02 0:00</td>\n",
              "      <td>43</td>\n",
              "      <td>34</td>\n",
              "      <td>9</td>\n",
              "      <td>0</td>\n",
              "      <td>50.3</td>\n",
              "      <td>1.90</td>\n",
              "      <td>Normal</td>\n",
              "    </tr>\n",
              "    <tr>\n",
              "      <th>1</th>\n",
              "      <td>2017-04-02 0:05</td>\n",
              "      <td>45</td>\n",
              "      <td>32</td>\n",
              "      <td>13</td>\n",
              "      <td>0</td>\n",
              "      <td>58.9</td>\n",
              "      <td>1.84</td>\n",
              "      <td>Normal</td>\n",
              "    </tr>\n",
              "    <tr>\n",
              "      <th>2</th>\n",
              "      <td>2017-04-02 0:10</td>\n",
              "      <td>46</td>\n",
              "      <td>34</td>\n",
              "      <td>12</td>\n",
              "      <td>0</td>\n",
              "      <td>50.6</td>\n",
              "      <td>1.87</td>\n",
              "      <td>Normal</td>\n",
              "    </tr>\n",
              "    <tr>\n",
              "      <th>3</th>\n",
              "      <td>2017-04-02 0:15</td>\n",
              "      <td>45</td>\n",
              "      <td>36</td>\n",
              "      <td>9</td>\n",
              "      <td>0</td>\n",
              "      <td>50.9</td>\n",
              "      <td>1.72</td>\n",
              "      <td>Normal</td>\n",
              "    </tr>\n",
              "    <tr>\n",
              "      <th>4</th>\n",
              "      <td>2017-04-02 0:20</td>\n",
              "      <td>27</td>\n",
              "      <td>13</td>\n",
              "      <td>13</td>\n",
              "      <td>1</td>\n",
              "      <td>62.2</td>\n",
              "      <td>1.12</td>\n",
              "      <td>Normal</td>\n",
              "    </tr>\n",
              "  </tbody>\n",
              "</table>\n",
              "</div>\n",
              "      <button class=\"colab-df-convert\" onclick=\"convertToInteractive('df-be285bb3-0ba8-4f60-ae09-d9868c26b75f')\"\n",
              "              title=\"Convert this dataframe to an interactive table.\"\n",
              "              style=\"display:none;\">\n",
              "        \n",
              "  <svg xmlns=\"http://www.w3.org/2000/svg\" height=\"24px\"viewBox=\"0 0 24 24\"\n",
              "       width=\"24px\">\n",
              "    <path d=\"M0 0h24v24H0V0z\" fill=\"none\"/>\n",
              "    <path d=\"M18.56 5.44l.94 2.06.94-2.06 2.06-.94-2.06-.94-.94-2.06-.94 2.06-2.06.94zm-11 1L8.5 8.5l.94-2.06 2.06-.94-2.06-.94L8.5 2.5l-.94 2.06-2.06.94zm10 10l.94 2.06.94-2.06 2.06-.94-2.06-.94-.94-2.06-.94 2.06-2.06.94z\"/><path d=\"M17.41 7.96l-1.37-1.37c-.4-.4-.92-.59-1.43-.59-.52 0-1.04.2-1.43.59L10.3 9.45l-7.72 7.72c-.78.78-.78 2.05 0 2.83L4 21.41c.39.39.9.59 1.41.59.51 0 1.02-.2 1.41-.59l7.78-7.78 2.81-2.81c.8-.78.8-2.07 0-2.86zM5.41 20L4 18.59l7.72-7.72 1.47 1.35L5.41 20z\"/>\n",
              "  </svg>\n",
              "      </button>\n",
              "      \n",
              "  <style>\n",
              "    .colab-df-container {\n",
              "      display:flex;\n",
              "      flex-wrap:wrap;\n",
              "      gap: 12px;\n",
              "    }\n",
              "\n",
              "    .colab-df-convert {\n",
              "      background-color: #E8F0FE;\n",
              "      border: none;\n",
              "      border-radius: 50%;\n",
              "      cursor: pointer;\n",
              "      display: none;\n",
              "      fill: #1967D2;\n",
              "      height: 32px;\n",
              "      padding: 0 0 0 0;\n",
              "      width: 32px;\n",
              "    }\n",
              "\n",
              "    .colab-df-convert:hover {\n",
              "      background-color: #E2EBFA;\n",
              "      box-shadow: 0px 1px 2px rgba(60, 64, 67, 0.3), 0px 1px 3px 1px rgba(60, 64, 67, 0.15);\n",
              "      fill: #174EA6;\n",
              "    }\n",
              "\n",
              "    [theme=dark] .colab-df-convert {\n",
              "      background-color: #3B4455;\n",
              "      fill: #D2E3FC;\n",
              "    }\n",
              "\n",
              "    [theme=dark] .colab-df-convert:hover {\n",
              "      background-color: #434B5C;\n",
              "      box-shadow: 0px 1px 3px 1px rgba(0, 0, 0, 0.15);\n",
              "      filter: drop-shadow(0px 1px 2px rgba(0, 0, 0, 0.3));\n",
              "      fill: #FFFFFF;\n",
              "    }\n",
              "  </style>\n",
              "\n",
              "      <script>\n",
              "        const buttonEl =\n",
              "          document.querySelector('#df-be285bb3-0ba8-4f60-ae09-d9868c26b75f button.colab-df-convert');\n",
              "        buttonEl.style.display =\n",
              "          google.colab.kernel.accessAllowed ? 'block' : 'none';\n",
              "\n",
              "        async function convertToInteractive(key) {\n",
              "          const element = document.querySelector('#df-be285bb3-0ba8-4f60-ae09-d9868c26b75f');\n",
              "          const dataTable =\n",
              "            await google.colab.kernel.invokeFunction('convertToInteractive',\n",
              "                                                     [key], {});\n",
              "          if (!dataTable) return;\n",
              "\n",
              "          const docLinkHtml = 'Like what you see? Visit the ' +\n",
              "            '<a target=\"_blank\" href=https://colab.research.google.com/notebooks/data_table.ipynb>data table notebook</a>'\n",
              "            + ' to learn more about interactive tables.';\n",
              "          element.innerHTML = '';\n",
              "          dataTable['output_type'] = 'display_data';\n",
              "          await google.colab.output.renderOutput(dataTable, element);\n",
              "          const docLink = document.createElement('div');\n",
              "          docLink.innerHTML = docLinkHtml;\n",
              "          element.appendChild(docLink);\n",
              "        }\n",
              "      </script>\n",
              "    </div>\n",
              "  </div>\n",
              "  "
            ]
          },
          "metadata": {},
          "execution_count": 5
        }
      ]
    },
    {
      "cell_type": "code",
      "source": [
        "df['label_speed'].unique()"
      ],
      "metadata": {
        "id": "kxZus2JrMrQi",
        "colab": {
          "base_uri": "https://localhost:8080/"
        },
        "outputId": "c246b8fd-45de-4154-eb5c-2ba9eba0baee"
      },
      "execution_count": 6,
      "outputs": [
        {
          "output_type": "execute_result",
          "data": {
            "text/plain": [
              "array(['Normal', 'Slow', 'Jam'], dtype=object)"
            ]
          },
          "metadata": {},
          "execution_count": 6
        }
      ]
    },
    {
      "cell_type": "code",
      "source": [
        "import matplotlib.pyplot as plt\n",
        "import seaborn as sns"
      ],
      "metadata": {
        "id": "NqLbf3SAMuab"
      },
      "execution_count": 7,
      "outputs": []
    },
    {
      "cell_type": "code",
      "source": [
        "class_dic = {'Jam': 0, 'Slow': 1, 'Normal': 2}\n",
        "df['label_speed'] = df['label_speed'].apply(lambda i : class_dic[i])\n",
        "df.head()"
      ],
      "metadata": {
        "id": "8FCldxWxM1CO",
        "colab": {
          "base_uri": "https://localhost:8080/",
          "height": 206
        },
        "outputId": "db60c0fb-5b75-480f-d2b1-7d1ed910e678"
      },
      "execution_count": 8,
      "outputs": [
        {
          "output_type": "execute_result",
          "data": {
            "text/plain": [
              "              Date  ToVol  SmVol  MeVol  LaVol  Speed  Occ.Rate  label_speed\n",
              "0  2017-04-02 0:00     43     34      9      0   50.3      1.90            2\n",
              "1  2017-04-02 0:05     45     32     13      0   58.9      1.84            2\n",
              "2  2017-04-02 0:10     46     34     12      0   50.6      1.87            2\n",
              "3  2017-04-02 0:15     45     36      9      0   50.9      1.72            2\n",
              "4  2017-04-02 0:20     27     13     13      1   62.2      1.12            2"
            ],
            "text/html": [
              "\n",
              "  <div id=\"df-63bc0e9c-fe70-4f96-b5e4-2367547347b6\">\n",
              "    <div class=\"colab-df-container\">\n",
              "      <div>\n",
              "<style scoped>\n",
              "    .dataframe tbody tr th:only-of-type {\n",
              "        vertical-align: middle;\n",
              "    }\n",
              "\n",
              "    .dataframe tbody tr th {\n",
              "        vertical-align: top;\n",
              "    }\n",
              "\n",
              "    .dataframe thead th {\n",
              "        text-align: right;\n",
              "    }\n",
              "</style>\n",
              "<table border=\"1\" class=\"dataframe\">\n",
              "  <thead>\n",
              "    <tr style=\"text-align: right;\">\n",
              "      <th></th>\n",
              "      <th>Date</th>\n",
              "      <th>ToVol</th>\n",
              "      <th>SmVol</th>\n",
              "      <th>MeVol</th>\n",
              "      <th>LaVol</th>\n",
              "      <th>Speed</th>\n",
              "      <th>Occ.Rate</th>\n",
              "      <th>label_speed</th>\n",
              "    </tr>\n",
              "  </thead>\n",
              "  <tbody>\n",
              "    <tr>\n",
              "      <th>0</th>\n",
              "      <td>2017-04-02 0:00</td>\n",
              "      <td>43</td>\n",
              "      <td>34</td>\n",
              "      <td>9</td>\n",
              "      <td>0</td>\n",
              "      <td>50.3</td>\n",
              "      <td>1.90</td>\n",
              "      <td>2</td>\n",
              "    </tr>\n",
              "    <tr>\n",
              "      <th>1</th>\n",
              "      <td>2017-04-02 0:05</td>\n",
              "      <td>45</td>\n",
              "      <td>32</td>\n",
              "      <td>13</td>\n",
              "      <td>0</td>\n",
              "      <td>58.9</td>\n",
              "      <td>1.84</td>\n",
              "      <td>2</td>\n",
              "    </tr>\n",
              "    <tr>\n",
              "      <th>2</th>\n",
              "      <td>2017-04-02 0:10</td>\n",
              "      <td>46</td>\n",
              "      <td>34</td>\n",
              "      <td>12</td>\n",
              "      <td>0</td>\n",
              "      <td>50.6</td>\n",
              "      <td>1.87</td>\n",
              "      <td>2</td>\n",
              "    </tr>\n",
              "    <tr>\n",
              "      <th>3</th>\n",
              "      <td>2017-04-02 0:15</td>\n",
              "      <td>45</td>\n",
              "      <td>36</td>\n",
              "      <td>9</td>\n",
              "      <td>0</td>\n",
              "      <td>50.9</td>\n",
              "      <td>1.72</td>\n",
              "      <td>2</td>\n",
              "    </tr>\n",
              "    <tr>\n",
              "      <th>4</th>\n",
              "      <td>2017-04-02 0:20</td>\n",
              "      <td>27</td>\n",
              "      <td>13</td>\n",
              "      <td>13</td>\n",
              "      <td>1</td>\n",
              "      <td>62.2</td>\n",
              "      <td>1.12</td>\n",
              "      <td>2</td>\n",
              "    </tr>\n",
              "  </tbody>\n",
              "</table>\n",
              "</div>\n",
              "      <button class=\"colab-df-convert\" onclick=\"convertToInteractive('df-63bc0e9c-fe70-4f96-b5e4-2367547347b6')\"\n",
              "              title=\"Convert this dataframe to an interactive table.\"\n",
              "              style=\"display:none;\">\n",
              "        \n",
              "  <svg xmlns=\"http://www.w3.org/2000/svg\" height=\"24px\"viewBox=\"0 0 24 24\"\n",
              "       width=\"24px\">\n",
              "    <path d=\"M0 0h24v24H0V0z\" fill=\"none\"/>\n",
              "    <path d=\"M18.56 5.44l.94 2.06.94-2.06 2.06-.94-2.06-.94-.94-2.06-.94 2.06-2.06.94zm-11 1L8.5 8.5l.94-2.06 2.06-.94-2.06-.94L8.5 2.5l-.94 2.06-2.06.94zm10 10l.94 2.06.94-2.06 2.06-.94-2.06-.94-.94-2.06-.94 2.06-2.06.94z\"/><path d=\"M17.41 7.96l-1.37-1.37c-.4-.4-.92-.59-1.43-.59-.52 0-1.04.2-1.43.59L10.3 9.45l-7.72 7.72c-.78.78-.78 2.05 0 2.83L4 21.41c.39.39.9.59 1.41.59.51 0 1.02-.2 1.41-.59l7.78-7.78 2.81-2.81c.8-.78.8-2.07 0-2.86zM5.41 20L4 18.59l7.72-7.72 1.47 1.35L5.41 20z\"/>\n",
              "  </svg>\n",
              "      </button>\n",
              "      \n",
              "  <style>\n",
              "    .colab-df-container {\n",
              "      display:flex;\n",
              "      flex-wrap:wrap;\n",
              "      gap: 12px;\n",
              "    }\n",
              "\n",
              "    .colab-df-convert {\n",
              "      background-color: #E8F0FE;\n",
              "      border: none;\n",
              "      border-radius: 50%;\n",
              "      cursor: pointer;\n",
              "      display: none;\n",
              "      fill: #1967D2;\n",
              "      height: 32px;\n",
              "      padding: 0 0 0 0;\n",
              "      width: 32px;\n",
              "    }\n",
              "\n",
              "    .colab-df-convert:hover {\n",
              "      background-color: #E2EBFA;\n",
              "      box-shadow: 0px 1px 2px rgba(60, 64, 67, 0.3), 0px 1px 3px 1px rgba(60, 64, 67, 0.15);\n",
              "      fill: #174EA6;\n",
              "    }\n",
              "\n",
              "    [theme=dark] .colab-df-convert {\n",
              "      background-color: #3B4455;\n",
              "      fill: #D2E3FC;\n",
              "    }\n",
              "\n",
              "    [theme=dark] .colab-df-convert:hover {\n",
              "      background-color: #434B5C;\n",
              "      box-shadow: 0px 1px 3px 1px rgba(0, 0, 0, 0.15);\n",
              "      filter: drop-shadow(0px 1px 2px rgba(0, 0, 0, 0.3));\n",
              "      fill: #FFFFFF;\n",
              "    }\n",
              "  </style>\n",
              "\n",
              "      <script>\n",
              "        const buttonEl =\n",
              "          document.querySelector('#df-63bc0e9c-fe70-4f96-b5e4-2367547347b6 button.colab-df-convert');\n",
              "        buttonEl.style.display =\n",
              "          google.colab.kernel.accessAllowed ? 'block' : 'none';\n",
              "\n",
              "        async function convertToInteractive(key) {\n",
              "          const element = document.querySelector('#df-63bc0e9c-fe70-4f96-b5e4-2367547347b6');\n",
              "          const dataTable =\n",
              "            await google.colab.kernel.invokeFunction('convertToInteractive',\n",
              "                                                     [key], {});\n",
              "          if (!dataTable) return;\n",
              "\n",
              "          const docLinkHtml = 'Like what you see? Visit the ' +\n",
              "            '<a target=\"_blank\" href=https://colab.research.google.com/notebooks/data_table.ipynb>data table notebook</a>'\n",
              "            + ' to learn more about interactive tables.';\n",
              "          element.innerHTML = '';\n",
              "          dataTable['output_type'] = 'display_data';\n",
              "          await google.colab.output.renderOutput(dataTable, element);\n",
              "          const docLink = document.createElement('div');\n",
              "          docLink.innerHTML = docLinkHtml;\n",
              "          element.appendChild(docLink);\n",
              "        }\n",
              "      </script>\n",
              "    </div>\n",
              "  </div>\n",
              "  "
            ]
          },
          "metadata": {},
          "execution_count": 8
        }
      ]
    },
    {
      "cell_type": "markdown",
      "source": [
        "### Sklearn을 이용한 데이터 분할"
      ],
      "metadata": {
        "id": "IMPS1Sc9NNB-"
      }
    },
    {
      "cell_type": "code",
      "source": [
        "features = ['ToVol', 'LaVol', 'MeVol', 'SmVol', 'Occ.Rate']\n",
        "X = df[features]\n",
        "y = df['label_speed']"
      ],
      "metadata": {
        "id": "C-oUTVcnND-a"
      },
      "execution_count": 9,
      "outputs": []
    },
    {
      "cell_type": "code",
      "source": [
        "from sklearn.model_selection import train_test_split\n",
        "X_train, X_test, y_train, y_test = train_test_split(X, y, test_size=0.2, shuffle=False)\n",
        "print(X_train.shape, y_train.shape)\n",
        "print(X_test.shape, y_test.shape)"
      ],
      "metadata": {
        "id": "4rVl60hLNY95",
        "colab": {
          "base_uri": "https://localhost:8080/"
        },
        "outputId": "e093a4bc-3833-40bb-8fab-618228cde188"
      },
      "execution_count": 10,
      "outputs": [
        {
          "output_type": "stream",
          "name": "stdout",
          "text": [
            "(6451, 5) (6451,)\n",
            "(1613, 5) (1613,)\n"
          ]
        }
      ]
    },
    {
      "cell_type": "markdown",
      "source": [
        "### Standardize\n"
      ],
      "metadata": {
        "id": "dlCM3QCaNvMF"
      }
    },
    {
      "cell_type": "code",
      "source": [
        "from sklearn.preprocessing import StandardScaler\n",
        "scaler = StandardScaler()\n",
        "\n",
        "X_train = scaler.fit_transform(X_train)\n",
        "X_test = scaler.transform(X_test)"
      ],
      "metadata": {
        "id": "gCi1xtGpNsdO"
      },
      "execution_count": 11,
      "outputs": []
    },
    {
      "cell_type": "code",
      "source": [
        "print(X_train.shape)"
      ],
      "metadata": {
        "id": "wOOheEiNWlNL",
        "colab": {
          "base_uri": "https://localhost:8080/"
        },
        "outputId": "06e3a159-fe82-4b51-c184-57564285b940"
      },
      "execution_count": 12,
      "outputs": [
        {
          "output_type": "stream",
          "name": "stdout",
          "text": [
            "(6451, 5)\n"
          ]
        }
      ]
    },
    {
      "cell_type": "code",
      "source": [
        "print(X_train[1].shape)"
      ],
      "metadata": {
        "id": "534l42DvWvK1",
        "colab": {
          "base_uri": "https://localhost:8080/"
        },
        "outputId": "7ea54ed7-1df8-4a09-8da2-d13d84efd46d"
      },
      "execution_count": 13,
      "outputs": [
        {
          "output_type": "stream",
          "name": "stdout",
          "text": [
            "(5,)\n"
          ]
        }
      ]
    },
    {
      "cell_type": "code",
      "source": [
        "num_features = len(X_train[1])\n",
        "print('number of features : ', num_features)"
      ],
      "metadata": {
        "id": "ZAW8hJ0PW1D_",
        "colab": {
          "base_uri": "https://localhost:8080/"
        },
        "outputId": "e8cf1a6d-6465-4079-c5f2-a3d76c983ca4"
      },
      "execution_count": 14,
      "outputs": [
        {
          "output_type": "stream",
          "name": "stdout",
          "text": [
            "number of features :  5\n"
          ]
        }
      ]
    },
    {
      "cell_type": "code",
      "source": [
        "scalar = StandardScaler()\n",
        "\n",
        "X_train = scaler.fit_transform(X_train)\n",
        "X_test = scaler.transform(X_test)\n",
        "\n",
        "X_train"
      ],
      "metadata": {
        "id": "9A6Jf1XAW7Tn",
        "colab": {
          "base_uri": "https://localhost:8080/"
        },
        "outputId": "11f98ab7-01de-4676-a1dc-6895fb036e39"
      },
      "execution_count": 15,
      "outputs": [
        {
          "output_type": "execute_result",
          "data": {
            "text/plain": [
              "array([[-1.03431236, -0.75262163, -1.06819167, -0.94977398, -0.61081493],\n",
              "       [-1.0032784 , -0.75262163, -0.8617752 , -0.99216665, -0.61941343],\n",
              "       [-0.98776142, -0.75262163, -0.91337932, -0.94977398, -0.61511418],\n",
              "       ...,\n",
              "       [ 0.85875951,  0.55781349,  0.73795251,  0.85191465,  0.24903504],\n",
              "       [ 1.0449633 , -0.09740407,  1.04757722,  1.00028901,  0.57291187],\n",
              "       [ 0.59497081,  1.86824862,  0.68634839,  0.47038059,  0.05126955]])"
            ]
          },
          "metadata": {},
          "execution_count": 15
        }
      ]
    },
    {
      "cell_type": "code",
      "source": [
        "import tensorflow as tf\n",
        "from tensorflow import keras\n",
        "from tensorflow.keras import Sequential, optimizers\n",
        "from tensorflow.keras.layers import Flatten, Dense, Softmax"
      ],
      "metadata": {
        "id": "7qnwaUorXJ-L"
      },
      "execution_count": 16,
      "outputs": []
    },
    {
      "cell_type": "code",
      "source": [
        "# Simple MLP model with 2 classes\n",
        "num_neurons = 20\n",
        "def model_mlp():\n",
        "  model = Sequential([\n",
        "      Dense(num_neurons, activation='relu', input_shape=[num_features]),\n",
        "      Dense(num_classes, activation='sigmoid')\n",
        "  ])\n",
        "  model.compile(optimizer='adam', loss='sparse_categorical_crossentropy', metrics=['accuracy'])\n",
        "  return model"
      ],
      "metadata": {
        "id": "VTeZgiMxXfaa"
      },
      "execution_count": 17,
      "outputs": []
    },
    {
      "cell_type": "code",
      "source": [
        "model = model_mlp()\n",
        "model.summary()"
      ],
      "metadata": {
        "id": "Aq7v8ObjaBWG",
        "colab": {
          "base_uri": "https://localhost:8080/"
        },
        "outputId": "348697e1-e276-4c87-99ba-916f87b00c38"
      },
      "execution_count": 18,
      "outputs": [
        {
          "output_type": "stream",
          "name": "stdout",
          "text": [
            "Model: \"sequential\"\n",
            "_________________________________________________________________\n",
            " Layer (type)                Output Shape              Param #   \n",
            "=================================================================\n",
            " dense (Dense)               (None, 20)                120       \n",
            "                                                                 \n",
            " dense_1 (Dense)             (None, 3)                 63        \n",
            "                                                                 \n",
            "=================================================================\n",
            "Total params: 183\n",
            "Trainable params: 183\n",
            "Non-trainable params: 0\n",
            "_________________________________________________________________\n"
          ]
        }
      ]
    },
    {
      "cell_type": "code",
      "source": [
        "# Simple MLP model with 3 classes\n",
        "num_neurons = 20\n",
        "def model_mlp_softmax():\n",
        "  model = Sequential([\n",
        "      Dense(num_neurons, activation='relu', input_shape=[num_features]),\n",
        "      Dense(num_classes, activation='softmax')\n",
        "  ])\n",
        "  model.compile(optimizer='adam', loss='sparse_categorical_crossentropy', metrics=['accuracy'])\n",
        "  return model"
      ],
      "metadata": {
        "id": "jZyRfBCzYBw4"
      },
      "execution_count": 19,
      "outputs": []
    },
    {
      "cell_type": "code",
      "source": [
        "model_0 = model_mlp_softmax()\n",
        "model_0.summary()"
      ],
      "metadata": {
        "id": "EtwVSrOlZeJb",
        "colab": {
          "base_uri": "https://localhost:8080/"
        },
        "outputId": "2b9aa15e-9208-43dc-89e6-7ee0e54d262c"
      },
      "execution_count": 20,
      "outputs": [
        {
          "output_type": "stream",
          "name": "stdout",
          "text": [
            "Model: \"sequential_1\"\n",
            "_________________________________________________________________\n",
            " Layer (type)                Output Shape              Param #   \n",
            "=================================================================\n",
            " dense_2 (Dense)             (None, 20)                120       \n",
            "                                                                 \n",
            " dense_3 (Dense)             (None, 3)                 63        \n",
            "                                                                 \n",
            "=================================================================\n",
            "Total params: 183\n",
            "Trainable params: 183\n",
            "Non-trainable params: 0\n",
            "_________________________________________________________________\n"
          ]
        }
      ]
    },
    {
      "cell_type": "markdown",
      "source": [
        "### training data"
      ],
      "metadata": {
        "id": "VRWDZn-Lkks1"
      }
    },
    {
      "cell_type": "code",
      "source": [
        "!pip install livelossplot"
      ],
      "metadata": {
        "id": "LgkDUMAHlFPk",
        "colab": {
          "base_uri": "https://localhost:8080/"
        },
        "outputId": "6d9ec8aa-d950-4c5f-d94d-813b957a7c3e"
      },
      "execution_count": 23,
      "outputs": [
        {
          "output_type": "stream",
          "name": "stdout",
          "text": [
            "Looking in indexes: https://pypi.org/simple, https://us-python.pkg.dev/colab-wheels/public/simple/\n",
            "Collecting livelossplot\n",
            "  Downloading livelossplot-0.5.5-py3-none-any.whl (22 kB)\n",
            "Requirement already satisfied: matplotlib in /usr/local/lib/python3.10/dist-packages (from livelossplot) (3.7.1)\n",
            "Requirement already satisfied: bokeh in /usr/local/lib/python3.10/dist-packages (from livelossplot) (2.4.3)\n",
            "Requirement already satisfied: Jinja2>=2.9 in /usr/local/lib/python3.10/dist-packages (from bokeh->livelossplot) (3.1.2)\n",
            "Requirement already satisfied: numpy>=1.11.3 in /usr/local/lib/python3.10/dist-packages (from bokeh->livelossplot) (1.22.4)\n",
            "Requirement already satisfied: packaging>=16.8 in /usr/local/lib/python3.10/dist-packages (from bokeh->livelossplot) (23.1)\n",
            "Requirement already satisfied: pillow>=7.1.0 in /usr/local/lib/python3.10/dist-packages (from bokeh->livelossplot) (8.4.0)\n",
            "Requirement already satisfied: PyYAML>=3.10 in /usr/local/lib/python3.10/dist-packages (from bokeh->livelossplot) (6.0)\n",
            "Requirement already satisfied: tornado>=5.1 in /usr/local/lib/python3.10/dist-packages (from bokeh->livelossplot) (6.3.1)\n",
            "Requirement already satisfied: typing-extensions>=3.10.0 in /usr/local/lib/python3.10/dist-packages (from bokeh->livelossplot) (4.5.0)\n",
            "Requirement already satisfied: contourpy>=1.0.1 in /usr/local/lib/python3.10/dist-packages (from matplotlib->livelossplot) (1.0.7)\n",
            "Requirement already satisfied: cycler>=0.10 in /usr/local/lib/python3.10/dist-packages (from matplotlib->livelossplot) (0.11.0)\n",
            "Requirement already satisfied: fonttools>=4.22.0 in /usr/local/lib/python3.10/dist-packages (from matplotlib->livelossplot) (4.39.3)\n",
            "Requirement already satisfied: kiwisolver>=1.0.1 in /usr/local/lib/python3.10/dist-packages (from matplotlib->livelossplot) (1.4.4)\n",
            "Requirement already satisfied: pyparsing>=2.3.1 in /usr/local/lib/python3.10/dist-packages (from matplotlib->livelossplot) (3.0.9)\n",
            "Requirement already satisfied: python-dateutil>=2.7 in /usr/local/lib/python3.10/dist-packages (from matplotlib->livelossplot) (2.8.2)\n",
            "Requirement already satisfied: MarkupSafe>=2.0 in /usr/local/lib/python3.10/dist-packages (from Jinja2>=2.9->bokeh->livelossplot) (2.1.2)\n",
            "Requirement already satisfied: six>=1.5 in /usr/local/lib/python3.10/dist-packages (from python-dateutil>=2.7->matplotlib->livelossplot) (1.16.0)\n",
            "Installing collected packages: livelossplot\n",
            "Successfully installed livelossplot-0.5.5\n"
          ]
        }
      ]
    },
    {
      "cell_type": "code",
      "source": [
        "from livelossplot import PlotLossesKeras\n"
      ],
      "metadata": {
        "id": "Z79358pZk1eT"
      },
      "execution_count": 24,
      "outputs": []
    },
    {
      "cell_type": "code",
      "source": [
        "\"\"\"\n",
        "history = model.fit(X_train, y_train, epochs=40, \n",
        "                    validation_split=0.15,\n",
        "                    batch_size=64,\n",
        "                    callbacks=[PlotLossesKeras()])\n",
        "\"\"\""
      ],
      "metadata": {
        "id": "xDu3bKiaZolJ",
        "colab": {
          "base_uri": "https://localhost:8080/",
          "height": 54
        },
        "outputId": "bb8ab24a-6dea-4985-fa9e-d7363e705589"
      },
      "execution_count": 25,
      "outputs": [
        {
          "output_type": "execute_result",
          "data": {
            "text/plain": [
              "'\\nhistory = model.fit(X_train, y_train, epochs=40, \\n                    validation_split=0.15,\\n                    batch_size=64,\\n                    callbacks=[PlotLossesKeras()])\\n'"
            ],
            "application/vnd.google.colaboratory.intrinsic+json": {
              "type": "string"
            }
          },
          "metadata": {},
          "execution_count": 25
        }
      ]
    },
    {
      "cell_type": "code",
      "source": [
        "\"\"\"\n",
        "# Evaluate the model on the test set\n",
        "loss, accuracy = model.evaluate(X_test, y_test)\n",
        "\n",
        "# Print the loss and accuracy\n",
        "print(\"Test Loss of the model:\", loss)\n",
        "print(\"Test Accuracy of the model:\", accuracy)\n",
        "\n",
        "\"\"\""
      ],
      "metadata": {
        "id": "THspKtgbkv99",
        "colab": {
          "base_uri": "https://localhost:8080/",
          "height": 54
        },
        "outputId": "069129c9-33a5-42c4-a3c9-e60b120170d4"
      },
      "execution_count": 26,
      "outputs": [
        {
          "output_type": "execute_result",
          "data": {
            "text/plain": [
              "'\\n# Evaluate the model on the test set\\nloss, accuracy = model.evaluate(X_test, y_test)\\n\\n# Print the loss and accuracy\\nprint(\"Test Loss of the model:\", loss)\\nprint(\"Test Accuracy of the model:\", accuracy)\\n\\n'"
            ],
            "application/vnd.google.colaboratory.intrinsic+json": {
              "type": "string"
            }
          },
          "metadata": {},
          "execution_count": 26
        }
      ]
    },
    {
      "cell_type": "code",
      "source": [
        "\"\"\"\n",
        "# Evaluate the model on the test set\n",
        "loss, accuracy = model_0.evaluate(X_test, y_test)\n",
        "\n",
        "# Print the loss and accuracy\n",
        "print(\"Test Loss of the model_0:\", loss)\n",
        "print(\"Test Accuracy of the model_0:\", accuracy)\n",
        "\"\"\""
      ],
      "metadata": {
        "id": "gxnQgP9NlpLM",
        "colab": {
          "base_uri": "https://localhost:8080/",
          "height": 54
        },
        "outputId": "540e1f94-d024-45f0-ddd4-69e8fdd2551b"
      },
      "execution_count": 27,
      "outputs": [
        {
          "output_type": "execute_result",
          "data": {
            "text/plain": [
              "'\\n# Evaluate the model on the test set\\nloss, accuracy = model_0.evaluate(X_test, y_test)\\n\\n# Print the loss and accuracy\\nprint(\"Test Loss of the model_0:\", loss)\\nprint(\"Test Accuracy of the model_0:\", accuracy)\\n'"
            ],
            "application/vnd.google.colaboratory.intrinsic+json": {
              "type": "string"
            }
          },
          "metadata": {},
          "execution_count": 27
        }
      ]
    },
    {
      "cell_type": "code",
      "source": [
        "history = model_0.fit(X_train, y_train, \n",
        "                    epochs=40, \n",
        "                    batch_size=64,\n",
        "                    validation_split=0.15, \n",
        "                    callbacks=[PlotLossesKeras()],\n",
        "                    verbose=1)\n",
        "\n",
        "\n",
        "# Evaluate the model on the test set\n",
        "loss, accuracy = model_0.evaluate(X_test, y_test)\n",
        "\n",
        "# Print the loss and accuracy\n",
        "print(\"Test Loss of the model_1:\", loss)\n",
        "print(\"Test Accuracy of the model_1:\", accuracy)"
      ],
      "metadata": {
        "id": "ptu4EJ1x4Biz",
        "colab": {
          "base_uri": "https://localhost:8080/",
          "height": 989
        },
        "outputId": "d9d8aaa9-aa56-40fb-e240-69473c4c2b90"
      },
      "execution_count": 28,
      "outputs": [
        {
          "output_type": "display_data",
          "data": {
            "text/plain": [
              "<Figure size 1200x800 with 2 Axes>"
            ],
            "image/png": "[encoded data removed]"
          },
          "metadata": {}
        },
        {
          "output_type": "stream",
          "name": "stdout",
          "text": [
            "accuracy\n",
            "\ttraining         \t (min:    0.693, max:    0.885, cur:    0.884)\n",
            "\tvalidation       \t (min:    0.785, max:    0.915, cur:    0.914)\n",
            "Loss\n",
            "\ttraining         \t (min:    0.299, max:    0.839, cur:    0.299)\n",
            "\tvalidation       \t (min:    0.250, max:    0.646, cur:    0.251)\n",
            "86/86 [==============================] - 1s 10ms/step - loss: 0.2985 - accuracy: 0.8836 - val_loss: 0.2508 - val_accuracy: 0.9143\n",
            "51/51 [==============================] - 0s 3ms/step - loss: 0.3146 - accuracy: 0.8791\n",
            "Test Loss of the model_1: 0.31463944911956787\n",
            "Test Accuracy of the model_1: 0.8791072368621826\n"
          ]
        }
      ]
    },
    {
      "cell_type": "markdown",
      "source": [
        "## Creating DNN model (improving MLP)"
      ],
      "metadata": {
        "id": "OZyVCWgZ32LG"
      }
    },
    {
      "cell_type": "code",
      "source": [
        "from tensorflow.keras.layers import Dense, Dropout, BatchNormalization\n",
        "\n",
        "\n",
        "def create_DNN_model():\n",
        "    model = Sequential()\n",
        "    \n",
        "    # Input Layer\n",
        "    model.add(Dense(64, input_dim=num_features, activation='relu'))\n",
        "\n",
        "    # Hidden Layer(s)\n",
        "    model.add(Dense(128, input_dim=num_features, activation='relu'))\n",
        "    model.add(BatchNormalization())\n",
        "    model.add(Dropout(0.3))\n",
        "\n",
        "    model.add(Dense(128, activation='relu'))\n",
        "    model.add(BatchNormalization())\n",
        "    model.add(Dropout(0.3))\n",
        "\n",
        "\n",
        "    # Output Layer\n",
        "    model.add(Dense(num_classes, activation='softmax'))  # Softmax for multi-class classification\n",
        "\n",
        "    opt = tf.keras.optimizers.Adam(learning_rate=0.001)\n",
        "\n",
        "\n",
        "    # Compile the model\n",
        "    model.compile(optimizer=opt, \n",
        "                  loss='sparse_categorical_crossentropy',\n",
        "                  metrics=['accuracy'])\n",
        "    \n",
        "    return model\n",
        "\n",
        "model_1 = create_DNN_model()\n",
        "model_1.summary()\n",
        "\n",
        "# from tensorflow.keras.callbacks import EarlyStopping\n",
        "\n",
        "# early_stop = EarlyStopping(monitor='val_loss', patience=5, verbose=1)\n",
        "\n",
        "history = model_1.fit(X_train, y_train, \n",
        "                    epochs=40, \n",
        "                    batch_size=64,\n",
        "                    validation_split=0.15, \n",
        "                    callbacks=[PlotLossesKeras()],\n",
        "                    verbose=1)\n",
        "\n",
        "\"\"\"\n",
        "history = model.fit(X_train, y_train, \n",
        "                    epochs=40, \n",
        "                    batch_size=64,\n",
        "                    validation_split=0.15, \n",
        "                    callbacks=[PlotLossesKeras()],\n",
        "                    verbose=1)\n",
        "\"\"\"\n",
        "\n",
        "# Evaluate the model on the test set\n",
        "loss, accuracy = model_1.evaluate(X_test, y_test)\n",
        "\n",
        "# Print the loss and accuracy\n",
        "print(\"Test Loss of the model_1:\", loss)\n",
        "print(\"Test Accuracy of the model_1:\", accuracy)\n"
      ],
      "metadata": {
        "id": "lStd9QvRltfe",
        "colab": {
          "base_uri": "https://localhost:8080/",
          "height": 989
        },
        "outputId": "7d64f142-39c8-4697-ec86-723fa750ef96"
      },
      "execution_count": 29,
      "outputs": [
        {
          "output_type": "display_data",
          "data": {
            "text/plain": [
              "<Figure size 1200x800 with 2 Axes>"
            ],
            "image/png": "[encoded data removed]"
          },
          "metadata": {}
        },
        {
          "output_type": "stream",
          "name": "stdout",
          "text": [
            "accuracy\n",
            "\ttraining         \t (min:    0.809, max:    0.893, cur:    0.890)\n",
            "\tvalidation       \t (min:    0.790, max:    0.925, cur:    0.916)\n",
            "Loss\n",
            "\ttraining         \t (min:    0.274, max:    0.641, cur:    0.279)\n",
            "\tvalidation       \t (min:    0.210, max:    0.590, cur:    0.211)\n",
            "86/86 [==============================] - 1s 11ms/step - loss: 0.2789 - accuracy: 0.8897 - val_loss: 0.2107 - val_accuracy: 0.9163\n",
            "51/51 [==============================] - 0s 2ms/step - loss: 0.2949 - accuracy: 0.8915\n",
            "Test Loss of the model_1: 0.2948955297470093\n",
            "Test Accuracy of the model_1: 0.8915064930915833\n"
          ]
        }
      ]
    }
  ],
  "metadata": {
    "colab": {
      "provenance": [],
      "gpuType": "T4"
    },
    "kernelspec": {
      "display_name": "Python 3",
      "name": "python3"
    },
    "language_info": {
      "name": "python"
    },
    "accelerator": "GPU"
  },
  "nbformat": 4,
  "nbformat_minor": 0
}